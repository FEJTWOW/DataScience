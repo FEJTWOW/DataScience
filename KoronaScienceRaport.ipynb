{
  "nbformat": 4,
  "nbformat_minor": 0,
  "metadata": {
    "colab": {
      "name": "KoronaScienceRaport.ipynb",
      "provenance": [],
      "collapsed_sections": [],
      "authorship_tag": "ABX9TyOBtUjk8zZDooC1z2YKaXr+",
      "include_colab_link": true
    },
    "kernelspec": {
      "name": "python3",
      "display_name": "Python 3"
    }
  },
  "cells": [
    {
      "cell_type": "markdown",
      "metadata": {
        "id": "view-in-github",
        "colab_type": "text"
      },
      "source": [
        "<a href=\"https://colab.research.google.com/github/FEJTWOW/DataScience/blob/master/KoronaScienceRaport.ipynb\" target=\"_parent\"><img src=\"https://colab.research.google.com/assets/colab-badge.svg\" alt=\"Open In Colab\"/></a>"
      ]
    },
    {
      "cell_type": "markdown",
      "metadata": {
        "id": "TYU7ei9CIQaY",
        "colab_type": "text"
      },
      "source": [
        "KORONA SCIENCE RAPORT\n",
        "\n"
      ]
    },
    {
      "cell_type": "code",
      "metadata": {
        "id": "dJ_ELhNiIhA7",
        "colab_type": "code",
        "colab": {}
      },
      "source": [
        "import pandas as pd\n",
        "from matplotlib import pyplot as plt\n",
        "import numpy as np\n",
        "import sklearn\n",
        "from sklearn.linear_model import LinearRegression\n"
      ],
      "execution_count": 0,
      "outputs": []
    },
    {
      "cell_type": "code",
      "metadata": {
        "id": "KKkWI9ZEITVC",
        "colab_type": "code",
        "outputId": "ce99ef0f-dc9f-40fb-d9f7-08e34129f023",
        "colab": {
          "base_uri": "https://localhost:8080/",
          "height": 55
        }
      },
      "source": [
        "url = f\"https://raw.githubusercontent.com/CSSEGISandData/COVID-19/master/csse_covid_19_data/csse_covid_19_time_series/time_series_covid19_confirmed_global.csv\"\n",
        "df = pd.read_csv(url, error_bad_lines=False)\n",
        "PKB = pd.read_csv('/content/data_csv2.csv', error_bad_lines=False)\n",
        "deaths=pd.read_csv('https://raw.githubusercontent.com/CSSEGISandData/COVID-19/master/csse_covid_19_data/csse_covid_19_time_series/time_series_covid19_deaths_global.csv')\n",
        "recorvered = pd.read_csv('https://raw.githubusercontent.com/CSSEGISandData/COVID-19/master/csse_covid_19_data/csse_covid_19_time_series/time_series_covid19_recovered_global.csv')"
      ],
      "execution_count": 0,
      "outputs": [
        {
          "output_type": "stream",
          "text": [
            "b'Skipping line 6769: expected 4 fields, saw 5\\nSkipping line 6770: expected 4 fields, saw 5\\nSkipping line 6771: expected 4 fields, saw 5\\nSkipping line 6772: expected 4 fields, saw 5\\nSkipping line 6773: expected 4 fields, saw 5\\nSkipping line 6774: expected 4 fields, saw 5\\nSkipping line 6775: expected 4 fields, saw 5\\nSkipping line 6776: expected 4 fields, saw 5\\nSkipping line 6777: expected 4 fields, saw 5\\nSkipping line 6778: expected 4 fields, saw 5\\nSkipping line 6779: expected 4 fields, saw 5\\nSkipping line 6780: expected 4 fields, saw 5\\nSkipping line 6781: expected 4 fields, saw 5\\nSkipping line 6782: expected 4 fields, saw 5\\nSkipping line 6783: expected 4 fields, saw 5\\nSkipping line 6784: expected 4 fields, saw 5\\nSkipping line 6785: expected 4 fields, saw 5\\nSkipping line 6786: expected 4 fields, saw 5\\nSkipping line 6787: expected 4 fields, saw 5\\nSkipping line 6788: expected 4 fields, saw 5\\nSkipping line 6789: expected 4 fields, saw 5\\nSkipping line 6790: expected 4 fields, saw 5\\nSkipping line 6791: expected 4 fields, saw 5\\nSkipping line 6792: expected 4 fields, saw 5\\nSkipping line 6793: expected 4 fields, saw 5\\nSkipping line 6794: expected 4 fields, saw 5\\nSkipping line 6795: expected 4 fields, saw 5\\nSkipping line 6796: expected 4 fields, saw 5\\nSkipping line 6797: expected 4 fields, saw 5\\nSkipping line 6798: expected 4 fields, saw 5\\nSkipping line 6799: expected 4 fields, saw 5\\nSkipping line 6800: expected 4 fields, saw 5\\nSkipping line 6801: expected 4 fields, saw 5\\nSkipping line 6802: expected 4 fields, saw 5\\nSkipping line 6803: expected 4 fields, saw 5\\nSkipping line 6804: expected 4 fields, saw 5\\nSkipping line 6805: expected 4 fields, saw 5\\nSkipping line 6806: expected 4 fields, saw 5\\nSkipping line 6807: expected 4 fields, saw 5\\nSkipping line 6808: expected 4 fields, saw 5\\nSkipping line 6809: expected 4 fields, saw 5\\nSkipping line 6810: expected 4 fields, saw 5\\nSkipping line 6811: expected 4 fields, saw 5\\nSkipping line 6812: expected 4 fields, saw 5\\nSkipping line 6813: expected 4 fields, saw 5\\nSkipping line 6814: expected 4 fields, saw 5\\nSkipping line 6815: expected 4 fields, saw 5\\nSkipping line 6816: expected 4 fields, saw 5\\nSkipping line 6817: expected 4 fields, saw 5\\nSkipping line 6818: expected 4 fields, saw 5\\nSkipping line 6819: expected 4 fields, saw 5\\nSkipping line 6820: expected 4 fields, saw 5\\nSkipping line 6821: expected 4 fields, saw 5\\nSkipping line 6822: expected 4 fields, saw 5\\nSkipping line 6823: expected 4 fields, saw 5\\nSkipping line 6824: expected 4 fields, saw 5\\nSkipping line 6825: expected 4 fields, saw 5\\nSkipping line 7264: expected 4 fields, saw 5\\nSkipping line 7265: expected 4 fields, saw 5\\nSkipping line 7266: expected 4 fields, saw 5\\nSkipping line 7267: expected 4 fields, saw 5\\nSkipping line 7268: expected 4 fields, saw 5\\nSkipping line 7269: expected 4 fields, saw 5\\nSkipping line 7270: expected 4 fields, saw 5\\nSkipping line 7271: expected 4 fields, saw 5\\nSkipping line 7272: expected 4 fields, saw 5\\nSkipping line 7273: expected 4 fields, saw 5\\nSkipping line 7274: expected 4 fields, saw 5\\nSkipping line 7275: expected 4 fields, saw 5\\nSkipping line 7276: expected 4 fields, saw 5\\nSkipping line 7277: expected 4 fields, saw 5\\nSkipping line 7278: expected 4 fields, saw 5\\nSkipping line 7279: expected 4 fields, saw 5\\nSkipping line 7280: expected 4 fields, saw 5\\nSkipping line 7281: expected 4 fields, saw 5\\nSkipping line 7282: expected 4 fields, saw 5\\nSkipping line 7283: expected 4 fields, saw 5\\nSkipping line 7284: expected 4 fields, saw 5\\nSkipping line 7285: expected 4 fields, saw 5\\nSkipping line 7286: expected 4 fields, saw 5\\nSkipping line 7287: expected 4 fields, saw 5\\nSkipping line 7288: expected 4 fields, saw 5\\nSkipping line 7289: expected 4 fields, saw 5\\nSkipping line 7290: expected 4 fields, saw 5\\nSkipping line 7291: expected 4 fields, saw 5\\nSkipping line 7292: expected 4 fields, saw 5\\nSkipping line 7293: expected 4 fields, saw 5\\nSkipping line 7294: expected 4 fields, saw 5\\nSkipping line 7295: expected 4 fields, saw 5\\nSkipping line 7296: expected 4 fields, saw 5\\nSkipping line 7297: expected 4 fields, saw 5\\nSkipping line 7298: expected 4 fields, saw 5\\nSkipping line 7299: expected 4 fields, saw 5\\nSkipping line 7300: expected 4 fields, saw 5\\nSkipping line 7301: expected 4 fields, saw 5\\nSkipping line 7302: expected 4 fields, saw 5\\nSkipping line 7303: expected 4 fields, saw 5\\nSkipping line 7304: expected 4 fields, saw 5\\nSkipping line 7305: expected 4 fields, saw 5\\nSkipping line 7306: expected 4 fields, saw 5\\nSkipping line 7307: expected 4 fields, saw 5\\nSkipping line 7308: expected 4 fields, saw 5\\nSkipping line 7309: expected 4 fields, saw 5\\nSkipping line 7310: expected 4 fields, saw 5\\nSkipping line 7311: expected 4 fields, saw 5\\nSkipping line 7312: expected 4 fields, saw 5\\nSkipping line 7313: expected 4 fields, saw 5\\nSkipping line 7314: expected 4 fields, saw 5\\nSkipping line 7315: expected 4 fields, saw 5\\nSkipping line 7316: expected 4 fields, saw 5\\nSkipping line 7317: expected 4 fields, saw 5\\nSkipping line 7318: expected 4 fields, saw 5\\nSkipping line 7319: expected 4 fields, saw 5\\nSkipping line 7320: expected 4 fields, saw 5\\nSkipping line 7321: expected 4 fields, saw 5\\nSkipping line 7322: expected 4 fields, saw 5\\nSkipping line 7323: expected 4 fields, saw 5\\nSkipping line 7324: expected 4 fields, saw 5\\nSkipping line 7325: expected 4 fields, saw 5\\nSkipping line 7822: expected 4 fields, saw 5\\nSkipping line 7823: expected 4 fields, saw 5\\nSkipping line 7824: expected 4 fields, saw 5\\nSkipping line 7825: expected 4 fields, saw 5\\nSkipping line 7826: expected 4 fields, saw 5\\nSkipping line 7827: expected 4 fields, saw 5\\nSkipping line 7828: expected 4 fields, saw 5\\nSkipping line 7829: expected 4 fields, saw 5\\nSkipping line 7830: expected 4 fields, saw 5\\nSkipping line 7831: expected 4 fields, saw 5\\nSkipping line 7832: expected 4 fields, saw 5\\nSkipping line 7833: expected 4 fields, saw 5\\nSkipping line 7834: expected 4 fields, saw 5\\nSkipping line 7835: expected 4 fields, saw 5\\nSkipping line 7836: expected 4 fields, saw 5\\nSkipping line 7837: expected 4 fields, saw 5\\nSkipping line 7838: expected 4 fields, saw 5\\nSkipping line 7839: expected 4 fields, saw 5\\nSkipping line 7840: expected 4 fields, saw 5\\nSkipping line 7841: expected 4 fields, saw 5\\nSkipping line 7842: expected 4 fields, saw 5\\nSkipping line 7843: expected 4 fields, saw 5\\nSkipping line 7844: expected 4 fields, saw 5\\nSkipping line 7845: expected 4 fields, saw 5\\nSkipping line 7846: expected 4 fields, saw 5\\nSkipping line 7847: expected 4 fields, saw 5\\nSkipping line 7848: expected 4 fields, saw 5\\nSkipping line 7849: expected 4 fields, saw 5\\nSkipping line 7850: expected 4 fields, saw 5\\nSkipping line 7851: expected 4 fields, saw 5\\nSkipping line 7852: expected 4 fields, saw 5\\nSkipping line 7853: expected 4 fields, saw 5\\n'\n"
          ],
          "name": "stderr"
        }
      ]
    },
    {
      "cell_type": "code",
      "metadata": {
        "id": "kvA19H-iIjnw",
        "colab_type": "code",
        "colab": {}
      },
      "source": [
        "def read_and_clean_PKB():\n",
        "  a = list(range(2308)) \n",
        "  PKB_good = PKB.drop(a).groupby(\"Country Name\").max() # musze usunąć regiony oraz wybrać po jednym pkb dla danego kraju\n",
        "  del PKB_good[\"Country Code\"] # usuwam niepotrzebne dane\n",
        "  del PKB_good[\"Year\"] # -||-\n",
        "  result = PKB_good.reset_index()\n",
        "  return result"
      ],
      "execution_count": 0,
      "outputs": []
    },
    {
      "cell_type": "code",
      "metadata": {
        "id": "R-2b4T_cIv61",
        "colab_type": "code",
        "colab": {}
      },
      "source": [
        "def countries_and_cases():\n",
        "  countries = pd.DataFrame(df.iloc[:,1]) # biorę kolumnę z nazwami\n",
        "  cases = pd.DataFrame(df.iloc[:,-1]) # biorę ostatnią kolumne z przypadkami\n",
        "  result = countries.merge(cases, left_index=True, right_index=True) # łącze po indeksach\n",
        "  result = result.set_axis([*result.columns[:-1], 'Cases'], axis=1, inplace=False) # zmieniam date na inna nazwe\n",
        "  result = result.groupby(\"Country/Region\").max() # grupuje bo sie powtarzaja\n",
        "  result = result.reset_index() \n",
        "  return result"
      ],
      "execution_count": 0,
      "outputs": []
    },
    {
      "cell_type": "code",
      "metadata": {
        "id": "TDkuBJ2YKqka",
        "colab_type": "code",
        "colab": {}
      },
      "source": [
        "def countries_and_deaths():\n",
        "  countries = pd.DataFrame(deaths.iloc[:,1]) # biorę kolumnę z nazwami\n",
        "  deaths2 = pd.DataFrame(deaths.iloc[:,-1]) # biorę ostatnią kolumne z przypadkami\n",
        "  result = countries.merge(deaths2, left_index=True, right_index=True) # łącze po indeksach\n",
        "  result = result.set_axis([*result.columns[:-1], 'Deaths'], axis=1, inplace=False) # zmieniam date na inna nazwe\n",
        "  result = result.groupby(\"Country/Region\").max() # grupuje bo sie powtarzaja\n",
        "  result = result.reset_index() \n",
        "  return result"
      ],
      "execution_count": 0,
      "outputs": []
    },
    {
      "cell_type": "code",
      "metadata": {
        "id": "m5VdjjkFMLuQ",
        "colab_type": "code",
        "colab": {}
      },
      "source": [
        "def countries_and_recorvered():\n",
        "  countries = pd.DataFrame(recorvered.iloc[:,1]) # biorę kolumnę z nazwami\n",
        "  recorvered2 = pd.DataFrame(recorvered.iloc[:,-1]) # biorę ostatnią kolumne z przypadkami\n",
        "  result = countries.merge(recorvered2, left_index=True, right_index=True) # łącze po indeksach\n",
        "  result = result.set_axis([*result.columns[:-1], 'Recorvered'], axis=1, inplace=False) # zmieniam date na inna nazwe\n",
        "  result = result.groupby(\"Country/Region\").max() # grupuje bo sie powtarzaja\n",
        "  result = result.reset_index() \n",
        "  return result"
      ],
      "execution_count": 0,
      "outputs": []
    },
    {
      "cell_type": "code",
      "metadata": {
        "id": "X3kEwr0mIzTc",
        "colab_type": "code",
        "colab": {}
      },
      "source": [
        "def merge_frames(frame1,frame2):\n",
        "  result = pd.merge(frame1, frame2, left_on='Country Name', right_on='Country/Region',\n",
        "                     how='left', sort=False);\n",
        "  clean = result.dropna() # usuwam wiersze z wartością NaN nie sa nam potrzebne\n",
        "  clean2 = clean.reset_index()\n",
        "  del clean2[\"index\"]\n",
        "  del clean2[\"Country/Region\"]\n",
        "  return clean2"
      ],
      "execution_count": 0,
      "outputs": []
    },
    {
      "cell_type": "code",
      "metadata": {
        "id": "BE86LcqxUQJs",
        "colab_type": "code",
        "colab": {}
      },
      "source": [
        "def merge_all(frame1,frame2,frame3):\n",
        "  all = pd.merge(pd.merge(frame1,frame2,on='Country Name'),frame3,on='Country Name')\n",
        "  del all[\"Value_x\"]\n",
        "  del all[\"Value_y\"]\n",
        "  all = all[['Country Name','Value','Cases','Deaths','Recorvered']]\n",
        "  return all"
      ],
      "execution_count": 0,
      "outputs": []
    },
    {
      "cell_type": "code",
      "metadata": {
        "id": "QpvKafBBJgkl",
        "colab_type": "code",
        "colab": {}
      },
      "source": [
        "pkb = read_and_clean_PKB()"
      ],
      "execution_count": 0,
      "outputs": []
    },
    {
      "cell_type": "code",
      "metadata": {
        "id": "dzNK0hwlJk6C",
        "colab_type": "code",
        "colab": {}
      },
      "source": [
        "countries = countries_and_cases()"
      ],
      "execution_count": 0,
      "outputs": []
    },
    {
      "cell_type": "code",
      "metadata": {
        "id": "4UWqiYTnLOGS",
        "colab_type": "code",
        "colab": {}
      },
      "source": [
        "deaths = countries_and_deaths()"
      ],
      "execution_count": 0,
      "outputs": []
    },
    {
      "cell_type": "code",
      "metadata": {
        "id": "a10RzPEqLdW9",
        "colab_type": "code",
        "colab": {}
      },
      "source": [
        "recorvered = countries_and_recorvered()"
      ],
      "execution_count": 0,
      "outputs": []
    },
    {
      "cell_type": "code",
      "metadata": {
        "id": "O5HHrHrjJqE1",
        "colab_type": "code",
        "colab": {}
      },
      "source": [
        "cases_and_pkb = merge_frames(pkb,countries)"
      ],
      "execution_count": 0,
      "outputs": []
    },
    {
      "cell_type": "code",
      "metadata": {
        "id": "eNcdsvBUJ3e2",
        "colab_type": "code",
        "colab": {}
      },
      "source": [
        "deaths_and_pkb = merge_frames(pkb,deaths)"
      ],
      "execution_count": 0,
      "outputs": []
    },
    {
      "cell_type": "code",
      "metadata": {
        "id": "vr7YKXpVLs1p",
        "colab_type": "code",
        "colab": {}
      },
      "source": [
        "recorvered_and_pkb = merge_frames(pkb,recorvered)"
      ],
      "execution_count": 0,
      "outputs": []
    },
    {
      "cell_type": "code",
      "metadata": {
        "id": "uU9gXXwhMlk5",
        "colab_type": "code",
        "outputId": "bf74a91d-b2a0-4754-bfe9-7b91411e85e4",
        "colab": {
          "base_uri": "https://localhost:8080/",
          "height": 424
        }
      },
      "source": [
        "cases_and_pkb"
      ],
      "execution_count": 0,
      "outputs": [
        {
          "output_type": "execute_result",
          "data": {
            "text/html": [
              "<div>\n",
              "<style scoped>\n",
              "    .dataframe tbody tr th:only-of-type {\n",
              "        vertical-align: middle;\n",
              "    }\n",
              "\n",
              "    .dataframe tbody tr th {\n",
              "        vertical-align: top;\n",
              "    }\n",
              "\n",
              "    .dataframe thead th {\n",
              "        text-align: right;\n",
              "    }\n",
              "</style>\n",
              "<table border=\"1\" class=\"dataframe\">\n",
              "  <thead>\n",
              "    <tr style=\"text-align: right;\">\n",
              "      <th></th>\n",
              "      <th>Country Name</th>\n",
              "      <th>Value</th>\n",
              "      <th>Cases</th>\n",
              "    </tr>\n",
              "  </thead>\n",
              "  <tbody>\n",
              "    <tr>\n",
              "      <th>0</th>\n",
              "      <td>Afghanistan</td>\n",
              "      <td>669.009051</td>\n",
              "      <td>110.0</td>\n",
              "    </tr>\n",
              "    <tr>\n",
              "      <th>1</th>\n",
              "      <td>Albania</td>\n",
              "      <td>4578.666728</td>\n",
              "      <td>186.0</td>\n",
              "    </tr>\n",
              "    <tr>\n",
              "      <th>2</th>\n",
              "      <td>Algeria</td>\n",
              "      <td>5565.134521</td>\n",
              "      <td>409.0</td>\n",
              "    </tr>\n",
              "    <tr>\n",
              "      <th>3</th>\n",
              "      <td>Andorra</td>\n",
              "      <td>48582.808455</td>\n",
              "      <td>267.0</td>\n",
              "    </tr>\n",
              "    <tr>\n",
              "      <th>4</th>\n",
              "      <td>Angola</td>\n",
              "      <td>4804.616884</td>\n",
              "      <td>4.0</td>\n",
              "    </tr>\n",
              "    <tr>\n",
              "      <th>...</th>\n",
              "      <td>...</td>\n",
              "      <td>...</td>\n",
              "      <td>...</td>\n",
              "    </tr>\n",
              "    <tr>\n",
              "      <th>150</th>\n",
              "      <td>Venezuela</td>\n",
              "      <td>15692.412878</td>\n",
              "      <td>107.0</td>\n",
              "    </tr>\n",
              "    <tr>\n",
              "      <th>151</th>\n",
              "      <td>Vietnam</td>\n",
              "      <td>2170.648054</td>\n",
              "      <td>163.0</td>\n",
              "    </tr>\n",
              "    <tr>\n",
              "      <th>152</th>\n",
              "      <td>West Bank and Gaza</td>\n",
              "      <td>2992.200995</td>\n",
              "      <td>91.0</td>\n",
              "    </tr>\n",
              "    <tr>\n",
              "      <th>153</th>\n",
              "      <td>Zambia</td>\n",
              "      <td>1850.793359</td>\n",
              "      <td>22.0</td>\n",
              "    </tr>\n",
              "    <tr>\n",
              "      <th>154</th>\n",
              "      <td>Zimbabwe</td>\n",
              "      <td>1105.958801</td>\n",
              "      <td>5.0</td>\n",
              "    </tr>\n",
              "  </tbody>\n",
              "</table>\n",
              "<p>155 rows × 3 columns</p>\n",
              "</div>"
            ],
            "text/plain": [
              "           Country Name         Value  Cases\n",
              "0           Afghanistan    669.009051  110.0\n",
              "1               Albania   4578.666728  186.0\n",
              "2               Algeria   5565.134521  409.0\n",
              "3               Andorra  48582.808455  267.0\n",
              "4                Angola   4804.616884    4.0\n",
              "..                  ...           ...    ...\n",
              "150           Venezuela  15692.412878  107.0\n",
              "151             Vietnam   2170.648054  163.0\n",
              "152  West Bank and Gaza   2992.200995   91.0\n",
              "153              Zambia   1850.793359   22.0\n",
              "154            Zimbabwe   1105.958801    5.0\n",
              "\n",
              "[155 rows x 3 columns]"
            ]
          },
          "metadata": {
            "tags": []
          },
          "execution_count": 44
        }
      ]
    },
    {
      "cell_type": "code",
      "metadata": {
        "id": "QhZ0AO4xRvZi",
        "colab_type": "code",
        "outputId": "cbc3a756-a77a-471f-e5a8-733a15dbe555",
        "colab": {
          "base_uri": "https://localhost:8080/",
          "height": 424
        }
      },
      "source": [
        "deaths_and_pkb"
      ],
      "execution_count": 0,
      "outputs": [
        {
          "output_type": "execute_result",
          "data": {
            "text/html": [
              "<div>\n",
              "<style scoped>\n",
              "    .dataframe tbody tr th:only-of-type {\n",
              "        vertical-align: middle;\n",
              "    }\n",
              "\n",
              "    .dataframe tbody tr th {\n",
              "        vertical-align: top;\n",
              "    }\n",
              "\n",
              "    .dataframe thead th {\n",
              "        text-align: right;\n",
              "    }\n",
              "</style>\n",
              "<table border=\"1\" class=\"dataframe\">\n",
              "  <thead>\n",
              "    <tr style=\"text-align: right;\">\n",
              "      <th></th>\n",
              "      <th>Country Name</th>\n",
              "      <th>Value</th>\n",
              "      <th>Deaths</th>\n",
              "    </tr>\n",
              "  </thead>\n",
              "  <tbody>\n",
              "    <tr>\n",
              "      <th>0</th>\n",
              "      <td>Afghanistan</td>\n",
              "      <td>669.009051</td>\n",
              "      <td>4.0</td>\n",
              "    </tr>\n",
              "    <tr>\n",
              "      <th>1</th>\n",
              "      <td>Albania</td>\n",
              "      <td>4578.666728</td>\n",
              "      <td>8.0</td>\n",
              "    </tr>\n",
              "    <tr>\n",
              "      <th>2</th>\n",
              "      <td>Algeria</td>\n",
              "      <td>5565.134521</td>\n",
              "      <td>26.0</td>\n",
              "    </tr>\n",
              "    <tr>\n",
              "      <th>3</th>\n",
              "      <td>Andorra</td>\n",
              "      <td>48582.808455</td>\n",
              "      <td>3.0</td>\n",
              "    </tr>\n",
              "    <tr>\n",
              "      <th>4</th>\n",
              "      <td>Angola</td>\n",
              "      <td>4804.616884</td>\n",
              "      <td>0.0</td>\n",
              "    </tr>\n",
              "    <tr>\n",
              "      <th>...</th>\n",
              "      <td>...</td>\n",
              "      <td>...</td>\n",
              "      <td>...</td>\n",
              "    </tr>\n",
              "    <tr>\n",
              "      <th>150</th>\n",
              "      <td>Venezuela</td>\n",
              "      <td>15692.412878</td>\n",
              "      <td>1.0</td>\n",
              "    </tr>\n",
              "    <tr>\n",
              "      <th>151</th>\n",
              "      <td>Vietnam</td>\n",
              "      <td>2170.648054</td>\n",
              "      <td>0.0</td>\n",
              "    </tr>\n",
              "    <tr>\n",
              "      <th>152</th>\n",
              "      <td>West Bank and Gaza</td>\n",
              "      <td>2992.200995</td>\n",
              "      <td>1.0</td>\n",
              "    </tr>\n",
              "    <tr>\n",
              "      <th>153</th>\n",
              "      <td>Zambia</td>\n",
              "      <td>1850.793359</td>\n",
              "      <td>0.0</td>\n",
              "    </tr>\n",
              "    <tr>\n",
              "      <th>154</th>\n",
              "      <td>Zimbabwe</td>\n",
              "      <td>1105.958801</td>\n",
              "      <td>1.0</td>\n",
              "    </tr>\n",
              "  </tbody>\n",
              "</table>\n",
              "<p>155 rows × 3 columns</p>\n",
              "</div>"
            ],
            "text/plain": [
              "           Country Name         Value  Deaths\n",
              "0           Afghanistan    669.009051     4.0\n",
              "1               Albania   4578.666728     8.0\n",
              "2               Algeria   5565.134521    26.0\n",
              "3               Andorra  48582.808455     3.0\n",
              "4                Angola   4804.616884     0.0\n",
              "..                  ...           ...     ...\n",
              "150           Venezuela  15692.412878     1.0\n",
              "151             Vietnam   2170.648054     0.0\n",
              "152  West Bank and Gaza   2992.200995     1.0\n",
              "153              Zambia   1850.793359     0.0\n",
              "154            Zimbabwe   1105.958801     1.0\n",
              "\n",
              "[155 rows x 3 columns]"
            ]
          },
          "metadata": {
            "tags": []
          },
          "execution_count": 45
        }
      ]
    },
    {
      "cell_type": "code",
      "metadata": {
        "id": "bh1ZhTzaRy9D",
        "colab_type": "code",
        "outputId": "1a472517-32e1-44e8-d9ca-d20d24f96c47",
        "colab": {
          "base_uri": "https://localhost:8080/",
          "height": 424
        }
      },
      "source": [
        "recorvered_and_pkb"
      ],
      "execution_count": 0,
      "outputs": [
        {
          "output_type": "execute_result",
          "data": {
            "text/html": [
              "<div>\n",
              "<style scoped>\n",
              "    .dataframe tbody tr th:only-of-type {\n",
              "        vertical-align: middle;\n",
              "    }\n",
              "\n",
              "    .dataframe tbody tr th {\n",
              "        vertical-align: top;\n",
              "    }\n",
              "\n",
              "    .dataframe thead th {\n",
              "        text-align: right;\n",
              "    }\n",
              "</style>\n",
              "<table border=\"1\" class=\"dataframe\">\n",
              "  <thead>\n",
              "    <tr style=\"text-align: right;\">\n",
              "      <th></th>\n",
              "      <th>Country Name</th>\n",
              "      <th>Value</th>\n",
              "      <th>Recorvered</th>\n",
              "    </tr>\n",
              "  </thead>\n",
              "  <tbody>\n",
              "    <tr>\n",
              "      <th>0</th>\n",
              "      <td>Afghanistan</td>\n",
              "      <td>669.009051</td>\n",
              "      <td>2.0</td>\n",
              "    </tr>\n",
              "    <tr>\n",
              "      <th>1</th>\n",
              "      <td>Albania</td>\n",
              "      <td>4578.666728</td>\n",
              "      <td>31.0</td>\n",
              "    </tr>\n",
              "    <tr>\n",
              "      <th>2</th>\n",
              "      <td>Algeria</td>\n",
              "      <td>5565.134521</td>\n",
              "      <td>29.0</td>\n",
              "    </tr>\n",
              "    <tr>\n",
              "      <th>3</th>\n",
              "      <td>Andorra</td>\n",
              "      <td>48582.808455</td>\n",
              "      <td>1.0</td>\n",
              "    </tr>\n",
              "    <tr>\n",
              "      <th>4</th>\n",
              "      <td>Angola</td>\n",
              "      <td>4804.616884</td>\n",
              "      <td>0.0</td>\n",
              "    </tr>\n",
              "    <tr>\n",
              "      <th>...</th>\n",
              "      <td>...</td>\n",
              "      <td>...</td>\n",
              "      <td>...</td>\n",
              "    </tr>\n",
              "    <tr>\n",
              "      <th>150</th>\n",
              "      <td>Venezuela</td>\n",
              "      <td>15692.412878</td>\n",
              "      <td>31.0</td>\n",
              "    </tr>\n",
              "    <tr>\n",
              "      <th>151</th>\n",
              "      <td>Vietnam</td>\n",
              "      <td>2170.648054</td>\n",
              "      <td>20.0</td>\n",
              "    </tr>\n",
              "    <tr>\n",
              "      <th>152</th>\n",
              "      <td>West Bank and Gaza</td>\n",
              "      <td>2992.200995</td>\n",
              "      <td>17.0</td>\n",
              "    </tr>\n",
              "    <tr>\n",
              "      <th>153</th>\n",
              "      <td>Zambia</td>\n",
              "      <td>1850.793359</td>\n",
              "      <td>0.0</td>\n",
              "    </tr>\n",
              "    <tr>\n",
              "      <th>154</th>\n",
              "      <td>Zimbabwe</td>\n",
              "      <td>1105.958801</td>\n",
              "      <td>0.0</td>\n",
              "    </tr>\n",
              "  </tbody>\n",
              "</table>\n",
              "<p>155 rows × 3 columns</p>\n",
              "</div>"
            ],
            "text/plain": [
              "           Country Name         Value  Recorvered\n",
              "0           Afghanistan    669.009051         2.0\n",
              "1               Albania   4578.666728        31.0\n",
              "2               Algeria   5565.134521        29.0\n",
              "3               Andorra  48582.808455         1.0\n",
              "4                Angola   4804.616884         0.0\n",
              "..                  ...           ...         ...\n",
              "150           Venezuela  15692.412878        31.0\n",
              "151             Vietnam   2170.648054        20.0\n",
              "152  West Bank and Gaza   2992.200995        17.0\n",
              "153              Zambia   1850.793359         0.0\n",
              "154            Zimbabwe   1105.958801         0.0\n",
              "\n",
              "[155 rows x 3 columns]"
            ]
          },
          "metadata": {
            "tags": []
          },
          "execution_count": 46
        }
      ]
    },
    {
      "cell_type": "code",
      "metadata": {
        "id": "4EQs1o-xR95t",
        "colab_type": "code",
        "colab": {}
      },
      "source": [
        "all = merge_all(cases_and_pkb,deaths_and_pkb,recorvered_and_pkb)"
      ],
      "execution_count": 0,
      "outputs": []
    },
    {
      "cell_type": "code",
      "metadata": {
        "id": "88UB_HX_TY5f",
        "colab_type": "code",
        "outputId": "eaa8b4fd-51d5-4057-eeaa-95ada00fb95d",
        "colab": {
          "base_uri": "https://localhost:8080/",
          "height": 424
        }
      },
      "source": [
        "all"
      ],
      "execution_count": 0,
      "outputs": [
        {
          "output_type": "execute_result",
          "data": {
            "text/html": [
              "<div>\n",
              "<style scoped>\n",
              "    .dataframe tbody tr th:only-of-type {\n",
              "        vertical-align: middle;\n",
              "    }\n",
              "\n",
              "    .dataframe tbody tr th {\n",
              "        vertical-align: top;\n",
              "    }\n",
              "\n",
              "    .dataframe thead th {\n",
              "        text-align: right;\n",
              "    }\n",
              "</style>\n",
              "<table border=\"1\" class=\"dataframe\">\n",
              "  <thead>\n",
              "    <tr style=\"text-align: right;\">\n",
              "      <th></th>\n",
              "      <th>Country Name</th>\n",
              "      <th>Value</th>\n",
              "      <th>Cases</th>\n",
              "      <th>Deaths</th>\n",
              "      <th>Recorvered</th>\n",
              "    </tr>\n",
              "  </thead>\n",
              "  <tbody>\n",
              "    <tr>\n",
              "      <th>0</th>\n",
              "      <td>Afghanistan</td>\n",
              "      <td>669.009051</td>\n",
              "      <td>110.0</td>\n",
              "      <td>4.0</td>\n",
              "      <td>2.0</td>\n",
              "    </tr>\n",
              "    <tr>\n",
              "      <th>1</th>\n",
              "      <td>Albania</td>\n",
              "      <td>4578.666728</td>\n",
              "      <td>186.0</td>\n",
              "      <td>8.0</td>\n",
              "      <td>31.0</td>\n",
              "    </tr>\n",
              "    <tr>\n",
              "      <th>2</th>\n",
              "      <td>Algeria</td>\n",
              "      <td>5565.134521</td>\n",
              "      <td>409.0</td>\n",
              "      <td>26.0</td>\n",
              "      <td>29.0</td>\n",
              "    </tr>\n",
              "    <tr>\n",
              "      <th>3</th>\n",
              "      <td>Andorra</td>\n",
              "      <td>48582.808455</td>\n",
              "      <td>267.0</td>\n",
              "      <td>3.0</td>\n",
              "      <td>1.0</td>\n",
              "    </tr>\n",
              "    <tr>\n",
              "      <th>4</th>\n",
              "      <td>Angola</td>\n",
              "      <td>4804.616884</td>\n",
              "      <td>4.0</td>\n",
              "      <td>0.0</td>\n",
              "      <td>0.0</td>\n",
              "    </tr>\n",
              "    <tr>\n",
              "      <th>...</th>\n",
              "      <td>...</td>\n",
              "      <td>...</td>\n",
              "      <td>...</td>\n",
              "      <td>...</td>\n",
              "      <td>...</td>\n",
              "    </tr>\n",
              "    <tr>\n",
              "      <th>150</th>\n",
              "      <td>Venezuela</td>\n",
              "      <td>15692.412878</td>\n",
              "      <td>107.0</td>\n",
              "      <td>1.0</td>\n",
              "      <td>31.0</td>\n",
              "    </tr>\n",
              "    <tr>\n",
              "      <th>151</th>\n",
              "      <td>Vietnam</td>\n",
              "      <td>2170.648054</td>\n",
              "      <td>163.0</td>\n",
              "      <td>0.0</td>\n",
              "      <td>20.0</td>\n",
              "    </tr>\n",
              "    <tr>\n",
              "      <th>152</th>\n",
              "      <td>West Bank and Gaza</td>\n",
              "      <td>2992.200995</td>\n",
              "      <td>91.0</td>\n",
              "      <td>1.0</td>\n",
              "      <td>17.0</td>\n",
              "    </tr>\n",
              "    <tr>\n",
              "      <th>153</th>\n",
              "      <td>Zambia</td>\n",
              "      <td>1850.793359</td>\n",
              "      <td>22.0</td>\n",
              "      <td>0.0</td>\n",
              "      <td>0.0</td>\n",
              "    </tr>\n",
              "    <tr>\n",
              "      <th>154</th>\n",
              "      <td>Zimbabwe</td>\n",
              "      <td>1105.958801</td>\n",
              "      <td>5.0</td>\n",
              "      <td>1.0</td>\n",
              "      <td>0.0</td>\n",
              "    </tr>\n",
              "  </tbody>\n",
              "</table>\n",
              "<p>155 rows × 5 columns</p>\n",
              "</div>"
            ],
            "text/plain": [
              "           Country Name         Value  Cases  Deaths  Recorvered\n",
              "0           Afghanistan    669.009051  110.0     4.0         2.0\n",
              "1               Albania   4578.666728  186.0     8.0        31.0\n",
              "2               Algeria   5565.134521  409.0    26.0        29.0\n",
              "3               Andorra  48582.808455  267.0     3.0         1.0\n",
              "4                Angola   4804.616884    4.0     0.0         0.0\n",
              "..                  ...           ...    ...     ...         ...\n",
              "150           Venezuela  15692.412878  107.0     1.0        31.0\n",
              "151             Vietnam   2170.648054  163.0     0.0        20.0\n",
              "152  West Bank and Gaza   2992.200995   91.0     1.0        17.0\n",
              "153              Zambia   1850.793359   22.0     0.0         0.0\n",
              "154            Zimbabwe   1105.958801    5.0     1.0         0.0\n",
              "\n",
              "[155 rows x 5 columns]"
            ]
          },
          "metadata": {
            "tags": []
          },
          "execution_count": 48
        }
      ]
    },
    {
      "cell_type": "code",
      "metadata": {
        "id": "m6_vM3LBV6cu",
        "colab_type": "code",
        "colab": {}
      },
      "source": [
        "corr_matrix = all.corr()"
      ],
      "execution_count": 0,
      "outputs": []
    },
    {
      "cell_type": "code",
      "metadata": {
        "id": "x_yrjOamYh0a",
        "colab_type": "code",
        "outputId": "af27d9ed-39e8-4802-b680-450f4bf058c9",
        "colab": {
          "base_uri": "https://localhost:8080/",
          "height": 175
        }
      },
      "source": [
        "corr_matrix"
      ],
      "execution_count": 0,
      "outputs": [
        {
          "output_type": "execute_result",
          "data": {
            "text/html": [
              "<div>\n",
              "<style scoped>\n",
              "    .dataframe tbody tr th:only-of-type {\n",
              "        vertical-align: middle;\n",
              "    }\n",
              "\n",
              "    .dataframe tbody tr th {\n",
              "        vertical-align: top;\n",
              "    }\n",
              "\n",
              "    .dataframe thead th {\n",
              "        text-align: right;\n",
              "    }\n",
              "</style>\n",
              "<table border=\"1\" class=\"dataframe\">\n",
              "  <thead>\n",
              "    <tr style=\"text-align: right;\">\n",
              "      <th></th>\n",
              "      <th>Value</th>\n",
              "      <th>Cases</th>\n",
              "      <th>Deaths</th>\n",
              "      <th>Recorvered</th>\n",
              "    </tr>\n",
              "  </thead>\n",
              "  <tbody>\n",
              "    <tr>\n",
              "      <th>Value</th>\n",
              "      <td>1.000000</td>\n",
              "      <td>0.134960</td>\n",
              "      <td>0.084895</td>\n",
              "      <td>0.003537</td>\n",
              "    </tr>\n",
              "    <tr>\n",
              "      <th>Cases</th>\n",
              "      <td>0.134960</td>\n",
              "      <td>1.000000</td>\n",
              "      <td>0.901814</td>\n",
              "      <td>0.688205</td>\n",
              "    </tr>\n",
              "    <tr>\n",
              "      <th>Deaths</th>\n",
              "      <td>0.084895</td>\n",
              "      <td>0.901814</td>\n",
              "      <td>1.000000</td>\n",
              "      <td>0.506417</td>\n",
              "    </tr>\n",
              "    <tr>\n",
              "      <th>Recorvered</th>\n",
              "      <td>0.003537</td>\n",
              "      <td>0.688205</td>\n",
              "      <td>0.506417</td>\n",
              "      <td>1.000000</td>\n",
              "    </tr>\n",
              "  </tbody>\n",
              "</table>\n",
              "</div>"
            ],
            "text/plain": [
              "               Value     Cases    Deaths  Recorvered\n",
              "Value       1.000000  0.134960  0.084895    0.003537\n",
              "Cases       0.134960  1.000000  0.901814    0.688205\n",
              "Deaths      0.084895  0.901814  1.000000    0.506417\n",
              "Recorvered  0.003537  0.688205  0.506417    1.000000"
            ]
          },
          "metadata": {
            "tags": []
          },
          "execution_count": 72
        }
      ]
    },
    {
      "cell_type": "markdown",
      "metadata": {
        "id": "WkgJ7T2TfNaj",
        "colab_type": "text"
      },
      "source": [
        "Póki co przy obecnym rozwoju epidemi nie jesteśmy w stanie stwierdzić czy PKB ma istotny wpływ na zaraźliwość, śmiertelność czy też powrót do zdrowia, ponieważ współczynnik Pearsona jest bliski 0"
      ]
    },
    {
      "cell_type": "markdown",
      "metadata": {
        "id": "Rux1YBEfZe3n",
        "colab_type": "text"
      },
      "source": [
        "Widzimy tez dosyć silną korelacje w przypadku liczby zgonów jak i liczby zarażonych co jest w sumie oczywiste\n"
      ]
    },
    {
      "cell_type": "code",
      "metadata": {
        "id": "HLh9B880XPYj",
        "colab_type": "code",
        "outputId": "12e0414a-fe10-47bb-fd5e-204e98bf916f",
        "colab": {
          "base_uri": "https://localhost:8080/",
          "height": 1000
        }
      },
      "source": [
        "pd.plotting.scatter_matrix(all, figsize=(12,8) )\n"
      ],
      "execution_count": 0,
      "outputs": [
        {
          "output_type": "stream",
          "text": [
            "/usr/local/lib/python3.6/dist-packages/pandas/plotting/_matplotlib/tools.py:307: MatplotlibDeprecationWarning: \n",
            "The rowNum attribute was deprecated in Matplotlib 3.2 and will be removed two minor releases later. Use ax.get_subplotspec().rowspan.start instead.\n",
            "  layout[ax.rowNum, ax.colNum] = ax.get_visible()\n",
            "/usr/local/lib/python3.6/dist-packages/pandas/plotting/_matplotlib/tools.py:307: MatplotlibDeprecationWarning: \n",
            "The colNum attribute was deprecated in Matplotlib 3.2 and will be removed two minor releases later. Use ax.get_subplotspec().colspan.start instead.\n",
            "  layout[ax.rowNum, ax.colNum] = ax.get_visible()\n",
            "/usr/local/lib/python3.6/dist-packages/pandas/plotting/_matplotlib/tools.py:313: MatplotlibDeprecationWarning: \n",
            "The rowNum attribute was deprecated in Matplotlib 3.2 and will be removed two minor releases later. Use ax.get_subplotspec().rowspan.start instead.\n",
            "  if not layout[ax.rowNum + 1, ax.colNum]:\n",
            "/usr/local/lib/python3.6/dist-packages/pandas/plotting/_matplotlib/tools.py:313: MatplotlibDeprecationWarning: \n",
            "The colNum attribute was deprecated in Matplotlib 3.2 and will be removed two minor releases later. Use ax.get_subplotspec().colspan.start instead.\n",
            "  if not layout[ax.rowNum + 1, ax.colNum]:\n"
          ],
          "name": "stderr"
        },
        {
          "output_type": "execute_result",
          "data": {
            "text/plain": [
              "array([[<matplotlib.axes._subplots.AxesSubplot object at 0x7f23a968ff60>,\n",
              "        <matplotlib.axes._subplots.AxesSubplot object at 0x7f23a917e908>,\n",
              "        <matplotlib.axes._subplots.AxesSubplot object at 0x7f23a911fc50>,\n",
              "        <matplotlib.axes._subplots.AxesSubplot object at 0x7f23a914ffd0>],\n",
              "       [<matplotlib.axes._subplots.AxesSubplot object at 0x7f23a9108390>,\n",
              "        <matplotlib.axes._subplots.AxesSubplot object at 0x7f23a90b6710>,\n",
              "        <matplotlib.axes._subplots.AxesSubplot object at 0x7f23a9064a90>,\n",
              "        <matplotlib.axes._subplots.AxesSubplot object at 0x7f23a9015dd8>],\n",
              "       [<matplotlib.axes._subplots.AxesSubplot object at 0x7f23a9015e48>,\n",
              "        <matplotlib.axes._subplots.AxesSubplot object at 0x7f23a9002550>,\n",
              "        <matplotlib.axes._subplots.AxesSubplot object at 0x7f23a8fb58d0>,\n",
              "        <matplotlib.axes._subplots.AxesSubplot object at 0x7f23a8f67c50>],\n",
              "       [<matplotlib.axes._subplots.AxesSubplot object at 0x7f23a8f1bfd0>,\n",
              "        <matplotlib.axes._subplots.AxesSubplot object at 0x7f23a8ed8390>,\n",
              "        <matplotlib.axes._subplots.AxesSubplot object at 0x7f23a8f0b710>,\n",
              "        <matplotlib.axes._subplots.AxesSubplot object at 0x7f23a8ebda90>]],\n",
              "      dtype=object)"
            ]
          },
          "metadata": {
            "tags": []
          },
          "execution_count": 74
        },
        {
          "output_type": "display_data",
          "data": {
            "image/png": "[encoded data removed]",
            "text/plain": [
              "<Figure size 864x576 with 16 Axes>"
            ]
          },
          "metadata": {
            "tags": []
          }
        }
      ]
    },
    {
      "cell_type": "markdown",
      "metadata": {
        "id": "-I4Nla3gYxyq",
        "colab_type": "text"
      },
      "source": [
        "Postaram się teraz przewidzieć za pomocą prostej liniowej regresji jak będzie rosła liczba śmierci wrac z liczbą zakażeń"
      ]
    },
    {
      "cell_type": "code",
      "metadata": {
        "id": "tbeU5L_jYuZD",
        "colab_type": "code",
        "outputId": "4c42d95b-e045-4721-a173-623265b8cc75",
        "colab": {
          "base_uri": "https://localhost:8080/",
          "height": 295
        }
      },
      "source": [
        "X = np.c_[all[\"Cases\"]]\n",
        "y = np.c_[all[\"Deaths\"]]\n",
        "all.plot(kind=\"scatter\", x =\"Cases\", y = \"Deaths\",alpha = 0.2, title=\"Cases and deaths COVID19\", legend=True )\n",
        "plt.gca().spines['top'].set_visible(False)\n",
        "plt.gca().spines['right'].set_visible(False)"
      ],
      "execution_count": 0,
      "outputs": [
        {
          "output_type": "display_data",
          "data": {
            "image/png": "[encoded data removed]",
            "text/plain": [
              "<Figure size 432x288 with 1 Axes>"
            ]
          },
          "metadata": {
            "tags": []
          }
        }
      ]
    },
    {
      "cell_type": "code",
      "metadata": {
        "id": "UqCQMt5vaWrL",
        "colab_type": "code",
        "outputId": "ece2d4f2-39ec-41ce-8adf-b2bb9ebac391",
        "colab": {
          "base_uri": "https://localhost:8080/",
          "height": 35
        }
      },
      "source": [
        "reg = LinearRegression().fit(X, y)\n",
        "X_new = [[70000]]\n",
        "print(int(reg.predict(X_new)))"
      ],
      "execution_count": 0,
      "outputs": [
        {
          "output_type": "stream",
          "text": [
            "4917\n"
          ],
          "name": "stdout"
        }
      ]
    }
  ]
}